{
 "cells": [
  {
   "cell_type": "code",
   "execution_count": null,
   "id": "e00bc3e5",
   "metadata": {},
   "outputs": [],
   "source": [
    "def sap_xep (num1, num2, num3):\n",
    "    if num2<num1 and num2<num3:\n",
    "        temp=num1\n",
    "        num1=num2\n",
    "        num2=temp\n",
    "    elif num3<num1 and num3<num2:\n",
    "        temp=num1\n",
    "        num1=num3\n",
    "        num3=temp\n",
    "    if num3<num2: \n",
    "        temp=num2\n",
    "        num2= num3\n",
    "        num3=temp\n",
    "    print (num1, num2, num3)\n",
    "    \n",
    "sap_xep (20,15,2)"
   ]
  }
 ],
 "metadata": {
  "kernelspec": {
   "display_name": "Python 3 (ipykernel)",
   "language": "python",
   "name": "python3"
  },
  "language_info": {
   "codemirror_mode": {
    "name": "ipython",
    "version": 3
   },
   "file_extension": ".py",
   "mimetype": "text/x-python",
   "name": "python",
   "nbconvert_exporter": "python",
   "pygments_lexer": "ipython3",
   "version": "3.9.12"
  }
 },
 "nbformat": 4,
 "nbformat_minor": 5
}
